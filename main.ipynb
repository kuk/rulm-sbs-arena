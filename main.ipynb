{
 "cells": [
  {
   "cell_type": "markdown",
   "id": "30ce31dc",
   "metadata": {},
   "source": [
    "# arena"
   ]
  },
  {
   "cell_type": "code",
   "execution_count": 1,
   "id": "97644b0f",
   "metadata": {},
   "outputs": [
    {
     "data": {
      "text/plain": [
       "[{'id': '8afb4907c8a44f109ac887ea3992f68c',\n",
       "  'lang': 'English',\n",
       "  'instruction': 'Write every possible combination of the numbers 1, 2 and 3 (that is 1,2,3  3,1,2 - etc)  - except the ones where the second number is larger than the last number. The numbers can be repeated, that is 3,1,1 is a valid combination.'},\n",
       " {'id': 'bc5bc3ff98a8454b843cb001787a11ee',\n",
       "  'lang': 'English',\n",
       "  'instruction': 'A riddle. It starts digging, replaces a hundred shovels. What is it?'},\n",
       " {'id': 'cbf55ba157ed4287a9c916afbb570437',\n",
       "  'lang': 'English',\n",
       "  'instruction': 'What is consciousness? Is thought dependent on the physical presence of neurons, or are those things independent of each other?'}]"
      ]
     },
     "execution_count": 1,
     "metadata": {},
     "output_type": "execute_result"
    }
   ],
   "source": [
    "%run -n main.py\n",
    "records = pd.read_parquet('data/arena/train-00000-of-00001-cced8514c7ed782a.parquet').itertuples()\n",
    "instruction_items = {\n",
    "    _['instruction']: _\n",
    "    for _ in parse_arena(records)\n",
    "    if _['lang'] == 'English'\n",
    "}\n",
    "arena_items = list(instruction_items.values())\n",
    "random.sample(arena_items, 3)"
   ]
  },
  {
   "cell_type": "markdown",
   "id": "512c1078",
   "metadata": {},
   "source": [
    "# translate"
   ]
  },
  {
   "cell_type": "code",
   "execution_count": 2,
   "id": "c93ab84c",
   "metadata": {
    "scrolled": true
   },
   "outputs": [],
   "source": [
    "%run -n main.py\n",
    "dotenv = read_json('.env.json')\n",
    "openai.api_key = dotenv['OPENAI_TOKEN']"
   ]
  },
  {
   "cell_type": "code",
   "execution_count": null,
   "id": "6b61d5d8",
   "metadata": {},
   "outputs": [],
   "source": [
    "%run -n main.py\n",
    "translate_items = [\n",
    "    {\n",
    "        'id': _['id']\n",
    "        'instruction': _['instruction'],\n",
    "        'answer': None\n",
    "    }\n",
    "    for _ in random.sample(arena_items, 1500)\n",
    "]"
   ]
  },
  {
   "cell_type": "code",
   "execution_count": null,
   "id": "c6ab57dc",
   "metadata": {},
   "outputs": [],
   "source": [
    "%run -n main.py\n",
    "items = [_ for _ in translate_items if not _['answer']][:250]\n",
    "queue = iter(tqdm(items))\n",
    "workers = [openai_translate_worker(queue) for _ in range(10)]\n",
    "await asyncio.gather(*workers);"
   ]
  },
  {
   "cell_type": "markdown",
   "id": "38799a82",
   "metadata": {},
   "source": [
    "# manually check"
   ]
  },
  {
   "cell_type": "code",
   "execution_count": null,
   "id": "d2b542c8",
   "metadata": {},
   "outputs": [],
   "source": [
    "arena_ru_items = [\n",
    "    {\n",
    "        'id': _['id'],\n",
    "        'instruction': _['answer'].splitlines()\n",
    "    }\n",
    "    for _ in translate_items\n",
    "    if _['answer']\n",
    "]    \n",
    "write_json('arena_ru.json', arena_ru_items)"
   ]
  },
  {
   "cell_type": "code",
   "execution_count": 14,
   "id": "05c4a0a5",
   "metadata": {},
   "outputs": [],
   "source": [
    "items = read_json('arena_ru.json')\n",
    "for item in items:\n",
    "    item['instruction'] = '\\n'.join(item['instruction'])\n",
    "write_jsonl('arena_ru.jsonl', items)"
   ]
  },
  {
   "cell_type": "code",
   "execution_count": null,
   "id": "54a76280",
   "metadata": {},
   "outputs": [],
   "source": []
  }
 ],
 "metadata": {
  "kernelspec": {
   "display_name": "rulm-sbs-tasks",
   "language": "python",
   "name": "rulm-sbs-tasks"
  },
  "language_info": {
   "codemirror_mode": {
    "name": "ipython",
    "version": 3
   },
   "file_extension": ".py",
   "mimetype": "text/x-python",
   "name": "python",
   "nbconvert_exporter": "python",
   "pygments_lexer": "ipython3",
   "version": "3.10.8"
  }
 },
 "nbformat": 4,
 "nbformat_minor": 5
}
